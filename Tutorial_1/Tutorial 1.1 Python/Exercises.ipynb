{
 "cells": [
  {
   "cell_type": "markdown",
   "id": "04bef2c0",
   "metadata": {},
   "source": [
    "## Python exercises"
   ]
  },
  {
   "cell_type": "markdown",
   "id": "3b1343a9",
   "metadata": {},
   "source": [
    "**Exercise 1:** Calculate radial velocity and redshift given the rest wavelenght ($\\lambda_0$) and observational wavelenght ($\\lambda$) of the object. To spice things up, you should take into account both relativistic and non-relativistic cases for calculating radial velocity (take $0.1 c$ as threshold).\n",
    "\n",
    "Non-relativistic formula:\n",
    "\n",
    "$$z = \\frac{\\lambda - \\lambda_0}{\\lambda_0} = \\frac{\\Delta \\lambda}{\\lambda_0}= \\frac{v}{c}$$\n",
    "\n",
    "Relativistic formula:\n",
    "\n",
    "$$z = \\frac{\\Delta \\lambda}{\\lambda_0} = \\sqrt{\\frac{1+v/c}{1-v/c}} - 1$$\n",
    "\n",
    "\n",
    "Steps to create an implementation in Python:\n",
    "\n",
    "- Calculate redshift `z` using observed and rest wavelenghts\n",
    "- Use the given thrashold to decide which formula to use for calculating `v`. You can use the following Python construction:\n",
    "\n",
    "```\n",
    "if condition:\n",
    "   # relativistic formula\n",
    "   v = ...\n",
    "else:\n",
    "   # non-relativistic formula\n",
    "   v = ...\n",
    "```\n",
    "- print the values of `v` and `z` (nicely formated)"
   ]
  },
  {
   "cell_type": "code",
   "execution_count": null,
   "id": "df3f3fcd",
   "metadata": {},
   "outputs": [],
   "source": [
    "# YOUR CODE HERE"
   ]
  },
  {
   "cell_type": "markdown",
   "id": "12d24a5c",
   "metadata": {},
   "source": [
    "**Exercise 2:** Create a program that calculates the roots of a second degree polynomial $y=ax^2+bx+c$. Your program needs to know from the user what are the values are of a, b and c."
   ]
  },
  {
   "cell_type": "code",
   "execution_count": null,
   "id": "19525a20",
   "metadata": {},
   "outputs": [],
   "source": [
    "# YOUR CODE HERE"
   ]
  },
  {
   "cell_type": "markdown",
   "id": "b308e78b",
   "metadata": {},
   "source": [
    "**Exercise 3:** Write a function that calculates a distance to a star, given its apparent magnitude and absolute magnitude, in units of light-years."
   ]
  },
  {
   "cell_type": "code",
   "execution_count": null,
   "id": "31d07069",
   "metadata": {},
   "outputs": [],
   "source": [
    "# YOUR CODE HERE"
   ]
  },
  {
   "cell_type": "markdown",
   "id": "f2e28043",
   "metadata": {},
   "source": [
    "**Exercise 4:** Write a script that determines a quadrant for a given point in Cartesian coordinates.\n",
    "\n",
    "*Hint:* [atan2](https://www.geeksforgeeks.org/atan2-function-python/) function from `math` module could be of help."
   ]
  },
  {
   "cell_type": "code",
   "execution_count": null,
   "id": "54dc250a",
   "metadata": {},
   "outputs": [],
   "source": [
    "# YOUR CODE HERE"
   ]
  },
  {
   "cell_type": "markdown",
   "id": "958d2aa1",
   "metadata": {},
   "source": [
    "**Exercise 5:** Implement a function that calculates spectral radiance using the Planck's law. The function should have two input parameters: temperature and wavelength. Plot the spectral radiance as a function of wavelength for several values of temperature."
   ]
  },
  {
   "cell_type": "code",
   "execution_count": null,
   "id": "43f4d283",
   "metadata": {},
   "outputs": [],
   "source": [
    "# YOUR CODE HERE"
   ]
  },
  {
   "cell_type": "markdown",
   "id": "b1168099",
   "metadata": {},
   "source": [
    "**Exercise 6:** Can you replicate this plot using NumPy and matplotlib?\n",
    "\n",
    "<br>\n",
    "<div>\n",
    "<img src=\"assets/example.png\" width=\"400\"/>\n",
    "</div>\n",
    "\n",
    "Hints:\n",
    "- you can generate dummy data using [np.random.uniform](https://numpy.org/doc/stable/reference/random/generated/numpy.random.uniform.html) function.\n",
    "- you can use [np.where](https://numpy.org/doc/stable/reference/generated/numpy.where.html) to select relevant part of the parameter space."
   ]
  },
  {
   "cell_type": "code",
   "execution_count": null,
   "id": "13242a75",
   "metadata": {},
   "outputs": [],
   "source": [
    "# YOUR CODE HERE"
   ]
  }
 ],
 "metadata": {
  "kernelspec": {
   "display_name": "Python 3 (ipykernel)",
   "language": "python",
   "name": "python3"
  },
  "language_info": {
   "codemirror_mode": {
    "name": "ipython",
    "version": 3
   },
   "file_extension": ".py",
   "mimetype": "text/x-python",
   "name": "python",
   "nbconvert_exporter": "python",
   "pygments_lexer": "ipython3",
   "version": "3.9.6"
  },
  "toc": {
   "base_numbering": 1,
   "nav_menu": {},
   "number_sections": true,
   "sideBar": true,
   "skip_h1_title": false,
   "title_cell": "Table of Contents",
   "title_sidebar": "Contents",
   "toc_cell": false,
   "toc_position": {},
   "toc_section_display": true,
   "toc_window_display": false
  },
  "varInspector": {
   "cols": {
    "lenName": 16,
    "lenType": 16,
    "lenVar": 40
   },
   "kernels_config": {
    "python": {
     "delete_cmd_postfix": "",
     "delete_cmd_prefix": "del ",
     "library": "var_list.py",
     "varRefreshCmd": "print(var_dic_list())"
    },
    "r": {
     "delete_cmd_postfix": ") ",
     "delete_cmd_prefix": "rm(",
     "library": "var_list.r",
     "varRefreshCmd": "cat(var_dic_list()) "
    }
   },
   "types_to_exclude": [
    "module",
    "function",
    "builtin_function_or_method",
    "instance",
    "_Feature"
   ],
   "window_display": false
  }
 },
 "nbformat": 4,
 "nbformat_minor": 5
}
